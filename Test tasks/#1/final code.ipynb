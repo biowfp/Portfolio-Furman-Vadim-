{
 "cells": [
  {
   "cell_type": "code",
   "execution_count": 1,
   "metadata": {},
   "outputs": [],
   "source": [
    "import sqlite3\n",
    "\n",
    "import pandas as pd\n",
    "import numpy as np\n",
    "\n",
    "from sklearn.model_selection import train_test_split\n",
    "from sklearn.linear_model import LinearRegression"
   ]
  },
  {
   "cell_type": "code",
   "execution_count": 2,
   "metadata": {},
   "outputs": [],
   "source": [
    "con = sqlite3.connect(\"DB.db\")\n",
    "cursor = con.cursor()"
   ]
  },
  {
   "cell_type": "raw",
   "metadata": {},
   "source": [
    "SQL запрос для задания 1.1:\n",
    "\n",
    "SELECT avg(price) AS average_price\n",
    "FROM(\n",
    "    SELECT max(date_start) AS actual_date, product, price\n",
    "    FROM prices\n",
    "    GROUP BY 2\n",
    "    );"
   ]
  },
  {
   "cell_type": "code",
   "execution_count": 3,
   "metadata": {},
   "outputs": [],
   "source": [
    "def get_price_change(product_name : 'str'):\n",
    "    \"\"\"Queries database for specific product's info and returns history of it's price changes.\"\"\"    \n",
    "    query = 'SELECT * FROM prices WHERE product = ? ORDER BY date_start'\n",
    "    \n",
    "    result = cursor.execute(query, [product_name]).fetchall()\n",
    "    names = [x[0] for x in cursor.description]\n",
    "    \n",
    "    df = pd.DataFrame(result, columns=names)\n",
    "    df.date_start = pd.to_datetime(df['date_start']).dt.date.astype('str')\n",
    "    \n",
    "    prices_per_date = (df.date_start.tolist(), df.price.tolist())\n",
    "    return prices_per_date"
   ]
  },
  {
   "cell_type": "raw",
   "metadata": {},
   "source": [
    "SQL запрос для задания 2.1:\n",
    "\n",
    "CREATE VIEW prices_ends AS\n",
    "SELECT\n",
    "\tp.date_start AS 'start',\n",
    "\tp.product AS 'product',\n",
    "\tp.price AS 'price',\n",
    "\tifnull(min(e.date_start), date('now', '+1 day')) AS 'end' --end date to accomodate today's sales\n",
    "FROM\n",
    "\tprices AS p --for start dates\n",
    "LEFT JOIN\n",
    "\t(SELECT product, date_start\n",
    "\tFROM prices) \n",
    "\tAS e --for end dates\n",
    "on p.product = e.product \n",
    "    AND p.date_start < e.date_start\n",
    "GROUP BY p.product, p.date_start\n",
    "ORDER BY p.product, p.date_start;\n",
    "\n",
    "CREATE TABLE revenue AS\n",
    "SELECT s.product, s.date, s.amount, \n",
    "    s.amount * pe.price as revenue\n",
    "FROM sales as s\n",
    "LEFT JOIN \n",
    "    prices_ends as pe\n",
    "on s.date >= pe.start\n",
    "    AND s.date < pe.end\n",
    "    AND s.product = pe.product\n",
    "ORDER by s.date DESC;"
   ]
  },
  {
   "cell_type": "code",
   "execution_count": 5,
   "metadata": {},
   "outputs": [],
   "source": [
    "def get_revenue_std(product_name : 'str'):\n",
    "    \"\"\"Queries database for specific product's revenue history and returns it's standard deviation.\"\"\"       \n",
    "    query = 'SELECT revenue FROM revenue WHERE product = ?'\n",
    "    \n",
    "    result = cursor.execute(query, [product_name]).fetchall()\n",
    "    prod_std = round(np.std(result), 2)\n",
    "    \n",
    "    return prod_std"
   ]
  },
  {
   "cell_type": "code",
   "execution_count": 6,
   "metadata": {},
   "outputs": [],
   "source": [
    "def lin_reg(product_name : 'str', start_date : 'str', end_date : 'str'):\n",
    "    \"\"\"Trains a linear regression model for amount of sold product vs day in selected dates' interval.\"\"\"\n",
    "    query = \"\"\"SELECT product, date, amount FROM revenue WHERE (product = ?)\n",
    "    AND (date BETWEEN ? AND ?) ORDER BY date\"\"\"\n",
    "    \n",
    "    result = cursor.execute(query, [product_name, start_date, end_date]).fetchall()\n",
    "    names = [x[0] for x in cursor.description]\n",
    "    df = pd.DataFrame(result, columns=names)\n",
    "    \n",
    "    x = df.index.values.reshape(-1, 1)\n",
    "    y = df.amount.values.reshape(-1, 1)\n",
    "    x_train, x_test, y_train, y_test = train_test_split(x, y, test_size = 0.2, random_state = 42)\n",
    "    \n",
    "    lrm = LinearRegression()\n",
    "    model = lrm.fit(x_train, y_train)\n",
    "    y_pred = lrm.predict(x_test)\n",
    "    \n",
    "    k = lrm.coef_\n",
    "    b = lrm.intercept_\n",
    "    \n",
    "    return k, b"
   ]
  },
  {
   "cell_type": "code",
   "execution_count": 8,
   "metadata": {},
   "outputs": [],
   "source": [
    "cursor.close()\n",
    "con.close()"
   ]
  }
 ],
 "metadata": {
  "kernelspec": {
   "display_name": "Python 3",
   "language": "python",
   "name": "python3"
  },
  "language_info": {
   "codemirror_mode": {
    "name": "ipython",
    "version": 3
   },
   "file_extension": ".py",
   "mimetype": "text/x-python",
   "name": "python",
   "nbconvert_exporter": "python",
   "pygments_lexer": "ipython3",
   "version": "3.7.6"
  }
 },
 "nbformat": 4,
 "nbformat_minor": 4
}
