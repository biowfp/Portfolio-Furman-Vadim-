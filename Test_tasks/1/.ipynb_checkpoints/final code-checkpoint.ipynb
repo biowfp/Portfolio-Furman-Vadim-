{
 "cells": [
  {
   "cell_type": "code",
   "execution_count": 3,
   "metadata": {},
   "outputs": [],
   "source": [
    "import sqlite3\n",
    "\n",
    "import pandas as pd\n",
    "import numpy as np\n",
    "\n",
    "from sklearn.model_selection import train_test_split\n",
    "from sklearn.linear_model import LinearRegression"
   ]
  },
  {
   "cell_type": "raw",
   "metadata": {},
   "source": [
    "SQL запрос для задания 1.1:\n",
    "\n",
    "`SELECT avg(price) AS average_price\n",
    "FROM(\n",
    "    SELECT max(date_start) AS actual_date, product, price\n",
    "    FROM prices\n",
    "    GROUP BY 2\n",
    "    );`"
   ]
  },
  {
   "cell_type": "code",
   "execution_count": 18,
   "metadata": {},
   "outputs": [],
   "source": [
    "def get_price_change(product_name : 'str'):\n",
    "    \"\"\"Queries database for specific product's info and returns history of it's price changes.\"\"\"    \n",
    "    con = sqlite3.connect(\"DB.db\")\n",
    "    cursor = con.cursor()\n",
    "    query = f'SELECT * FROM prices WHERE product = \\'{product_name}\\' ORDER BY date_start'\n",
    "    \n",
    "    df = pd.read_sql(query, con)\n",
    "    \n",
    "    cursor.close()\n",
    "    con.close()\n",
    "    \n",
    "    prices_per_date = (df.date_start.tolist(), df.price.tolist())\n",
    "    return prices_per_date"
   ]
  },
  {
   "cell_type": "code",
   "execution_count": 21,
   "metadata": {},
   "outputs": [
    {
     "data": {
      "text/plain": [
       "(['1970-01-01',\n",
       "  '2010-01-21',\n",
       "  '2010-08-17',\n",
       "  '2010-11-02',\n",
       "  '2012-08-27',\n",
       "  '2012-12-06',\n",
       "  '2013-01-11',\n",
       "  '2013-05-02',\n",
       "  '2013-05-08',\n",
       "  '2013-11-01',\n",
       "  '2014-08-30',\n",
       "  '2015-12-29',\n",
       "  '2016-05-04',\n",
       "  '2016-08-14',\n",
       "  '2016-09-28',\n",
       "  '2017-04-01'],\n",
       " [297.79,\n",
       "  164.68,\n",
       "  558.58,\n",
       "  127.08,\n",
       "  352.13,\n",
       "  0.35,\n",
       "  100.61,\n",
       "  120.5,\n",
       "  260.19,\n",
       "  1747.84,\n",
       "  59.84,\n",
       "  118.27,\n",
       "  550.62,\n",
       "  339.35,\n",
       "  210.19,\n",
       "  111.23])"
      ]
     },
     "execution_count": 21,
     "metadata": {},
     "output_type": "execute_result"
    }
   ],
   "source": [
    "get_price_change('A')"
   ]
  },
  {
   "cell_type": "raw",
   "metadata": {},
   "source": [
    "SQL запрос для задания 2.1:\n",
    "\n",
    "CREATE VIEW prices_ends AS\n",
    "SELECT\n",
    "\tp.date_start AS 'start',\n",
    "\tp.product,\n",
    "\tp.price,\n",
    "\tifnull(min(e.date_start), date('now', '+1 day')) AS 'end' --end date to accomodate today's sales\n",
    "FROM\n",
    "\tprices AS p --for start dates\n",
    "LEFT JOIN\n",
    "\t(SELECT product, date_start\n",
    "\tFROM prices) \n",
    "\tAS e --for end dates\n",
    "on p.product = e.product \n",
    "    AND p.date_start < e.date_start\n",
    "GROUP BY p.product, p.date_start\n",
    "ORDER BY p.product, p.date_start;\n",
    "\n",
    "CREATE TABLE revenue AS\n",
    "SELECT s.product, s.date, s.amount, \n",
    "    s.amount * pe.price AS revenue\n",
    "FROM sales AS s\n",
    "LEFT JOIN \n",
    "    prices_ends AS pe\n",
    "on s.date >= pe.start\n",
    "    AND s.date < pe.end\n",
    "    AND s.product = pe.product\n",
    "ORDER by s.date DESC;"
   ]
  },
  {
   "cell_type": "code",
   "execution_count": 22,
   "metadata": {},
   "outputs": [],
   "source": [
    "def get_revenue_std(product_name : 'str'):\n",
    "    \"\"\"Queries database for specific product's revenue history and returns it's standard deviation.\"\"\"       \n",
    "    con = sqlite3.connect(\"DB.db\")\n",
    "    cursor = con.cursor()\n",
    "    \n",
    "    query = f'SELECT revenue FROM revenue WHERE product = \\'{product_name}\\''\n",
    "    \n",
    "    result = cursor.execute(query).fetchall()\n",
    "    prod_std = round(np.std(result), 2)\n",
    "    \n",
    "    cursor.close()\n",
    "    con.close()\n",
    "    \n",
    "    return prod_std"
   ]
  },
  {
   "cell_type": "code",
   "execution_count": 23,
   "metadata": {},
   "outputs": [
    {
     "data": {
      "text/plain": [
       "33461.19"
      ]
     },
     "execution_count": 23,
     "metadata": {},
     "output_type": "execute_result"
    }
   ],
   "source": [
    "get_revenue_std('B')"
   ]
  },
  {
   "cell_type": "code",
   "execution_count": 36,
   "metadata": {},
   "outputs": [],
   "source": [
    "def lin_reg(product_name : 'str', start_date : 'str', end_date : 'str'):\n",
    "    \"\"\"Trains a linear regression model for amount of sold product vs day in selected dates' interval.\"\"\"\n",
    "    con = sqlite3.connect(\"DB.db\")\n",
    "    cursor = con.cursor()\n",
    "    \n",
    "    query = f\"\"\"SELECT product, date, amount FROM revenue \n",
    "    WHERE (product = \\'{product_name}\\') AND (date BETWEEN \\'{start_date}\\' AND \\'{end_date}\\') ORDER BY date\"\"\"\n",
    "    \n",
    "    df = pd.read_sql(query, con)\n",
    "    \n",
    "    x = df.index.values.reshape(-1, 1) # I use index assuming data is consistent and reliable,\n",
    "    #we'd have to get a date range and assign day numbers for each row if it's not\n",
    "    y = df.amount.values.reshape(-1, 1)\n",
    "    x_train, x_test, y_train, y_test = train_test_split(x, y, test_size = 0.2, random_state = 42)\n",
    "    \n",
    "    lrm = LinearRegression()\n",
    "    model = lrm.fit(x_train, y_train)\n",
    "    y_pred = lrm.predict(x_test)\n",
    "    \n",
    "    k = lrm.coef_\n",
    "    b = lrm.intercept_\n",
    "    \n",
    "    cursor.close()\n",
    "    con.close()\n",
    "    \n",
    "    return k, b"
   ]
  },
  {
   "cell_type": "code",
   "execution_count": 37,
   "metadata": {},
   "outputs": [
    {
     "data": {
      "text/plain": [
       "(array([[-0.11719955]]), array([25.21387926]))"
      ]
     },
     "execution_count": 37,
     "metadata": {},
     "output_type": "execute_result"
    }
   ],
   "source": [
    "lin_reg('Q', '2019-01-01', '2019-03-31')"
   ]
  }
 ],
 "metadata": {
  "kernelspec": {
   "display_name": "Python 3",
   "language": "python",
   "name": "python3"
  },
  "language_info": {
   "codemirror_mode": {
    "name": "ipython",
    "version": 3
   },
   "file_extension": ".py",
   "mimetype": "text/x-python",
   "name": "python",
   "nbconvert_exporter": "python",
   "pygments_lexer": "ipython3",
   "version": "3.7.6"
  }
 },
 "nbformat": 4,
 "nbformat_minor": 4
}
